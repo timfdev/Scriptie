{
 "cells": [
  {
   "cell_type": "code",
   "execution_count": 2,
   "metadata": {},
   "outputs": [],
   "source": [
    "import os\n",
    "import xlsxwriter"
   ]
  },
  {
   "cell_type": "code",
   "execution_count": null,
   "metadata": {},
   "outputs": [],
   "source": []
  },
  {
   "cell_type": "code",
   "execution_count": null,
   "metadata": {},
   "outputs": [],
   "source": []
  },
  {
   "cell_type": "code",
   "execution_count": 3,
   "metadata": {},
   "outputs": [],
   "source": [
    "from clarifai_grpc.channel.clarifai_channel import ClarifaiChannel\n",
    "from clarifai_grpc.grpc.api import service_pb2_grpc\n",
    "from clarifai_grpc.grpc.api import service_pb2, resources_pb2\n",
    "from clarifai_grpc.grpc.api.status import status_code_pb2\n",
    "\n",
    "stub = service_pb2_grpc.V2Stub(ClarifaiChannel.get_grpc_channel())"
   ]
  },
  {
   "cell_type": "code",
   "execution_count": 4,
   "metadata": {},
   "outputs": [],
   "source": [
    "# Send image to Clarifai api, return generated tags\n",
    "# Copied from the Clarif python demo: https://docs.clarifai.com/api-guide/predict/images\n",
    "\n",
    "def generate_tags(img):\n",
    "    # This is how you authenticate.\n",
    "    metadata = (('authorization', 'Key 55264bb600de467ca0064ee35546481b'),)\n",
    "    with open(img, \"rb\") as f:\n",
    "        file_bytes = f.read()\n",
    "\n",
    "    post_model_outputs_response = stub.PostModelOutputs(\n",
    "        service_pb2.PostModelOutputsRequest(\n",
    "            model_id=\"aaa03c23b3724a16a56b629203edc62c\",\n",
    "            #version_id=\"{THE_MODEL_VERSION_ID}\",  # This is optional. Defaults to the latest model version.\n",
    "            inputs=[\n",
    "                resources_pb2.Input(\n",
    "                    data=resources_pb2.Data(\n",
    "                        image=resources_pb2.Image(\n",
    "                            base64=file_bytes\n",
    "                        )\n",
    "                    )\n",
    "                )\n",
    "            ]\n",
    "        ),\n",
    "        metadata=metadata\n",
    "    )\n",
    "\n",
    "    if post_model_outputs_response.status.code != status_code_pb2.SUCCESS:\n",
    "        raise Exception(\"Post model outputs failed, status: \" + post_model_outputs_response.status.description)\n",
    "\n",
    "    # Since we have one input, one output will exist here.\n",
    "    output = post_model_outputs_response.outputs[0]\n",
    "    return [\"%s %.2f\" % (concept.name, concept.value) for concept in output.data.concepts]\n"
   ]
  },
  {
   "cell_type": "code",
   "execution_count": 10,
   "metadata": {},
   "outputs": [
    {
     "ename": "Exception",
     "evalue": "Post model outputs failed, status: Failure",
     "output_type": "error",
     "traceback": [
      "\u001b[0;31m---------------------------------------------------------------------------\u001b[0m",
      "\u001b[0;31mException\u001b[0m                                 Traceback (most recent call last)",
      "\u001b[0;32m<ipython-input-10-31bfc42b7975>\u001b[0m in \u001b[0;36m<module>\u001b[0;34m\u001b[0m\n\u001b[0;32m----> 1\u001b[0;31m \u001b[0mresult\u001b[0m \u001b[0;34m=\u001b[0m \u001b[0mgenerate_tags\u001b[0m\u001b[0;34m(\u001b[0m\u001b[0;34m'test.HEIC'\u001b[0m\u001b[0;34m)\u001b[0m\u001b[0;34m\u001b[0m\u001b[0m\n\u001b[0m\u001b[1;32m      2\u001b[0m \u001b[0mprint\u001b[0m\u001b[0;34m(\u001b[0m\u001b[0mresult\u001b[0m\u001b[0;34m)\u001b[0m\u001b[0;34m\u001b[0m\u001b[0m\n",
      "\u001b[0;32m<ipython-input-4-1264287bb0fb>\u001b[0m in \u001b[0;36mgenerate_tags\u001b[0;34m(img)\u001b[0m\n\u001b[1;32m     26\u001b[0m \u001b[0;34m\u001b[0m\u001b[0m\n\u001b[1;32m     27\u001b[0m     \u001b[0;32mif\u001b[0m \u001b[0mpost_model_outputs_response\u001b[0m\u001b[0;34m.\u001b[0m\u001b[0mstatus\u001b[0m\u001b[0;34m.\u001b[0m\u001b[0mcode\u001b[0m \u001b[0;34m!=\u001b[0m \u001b[0mstatus_code_pb2\u001b[0m\u001b[0;34m.\u001b[0m\u001b[0mSUCCESS\u001b[0m\u001b[0;34m:\u001b[0m\u001b[0;34m\u001b[0m\u001b[0m\n\u001b[0;32m---> 28\u001b[0;31m         \u001b[0;32mraise\u001b[0m \u001b[0mException\u001b[0m\u001b[0;34m(\u001b[0m\u001b[0;34m\"Post model outputs failed, status: \"\u001b[0m \u001b[0;34m+\u001b[0m \u001b[0mpost_model_outputs_response\u001b[0m\u001b[0;34m.\u001b[0m\u001b[0mstatus\u001b[0m\u001b[0;34m.\u001b[0m\u001b[0mdescription\u001b[0m\u001b[0;34m)\u001b[0m\u001b[0;34m\u001b[0m\u001b[0m\n\u001b[0m\u001b[1;32m     29\u001b[0m \u001b[0;34m\u001b[0m\u001b[0m\n\u001b[1;32m     30\u001b[0m     \u001b[0;31m# Since we have one input, one output will exist here.\u001b[0m\u001b[0;34m\u001b[0m\u001b[0;34m\u001b[0m\u001b[0m\n",
      "\u001b[0;31mException\u001b[0m: Post model outputs failed, status: Failure"
     ]
    }
   ],
   "source": [
    "\n"
   ]
  },
  {
   "cell_type": "code",
   "execution_count": 17,
   "metadata": {},
   "outputs": [],
   "source": [
    "# Generate tags and store them in excel\n",
    "# Theme, StudentID, imgID, tags\n",
    "\n",
    "rootdir = '/home/tim/Documents/scriptie/data'\n",
    "workbook = xlsxwriter.Workbook('complete_dataset.xlsx')\n",
    "worksheet = workbook.add_worksheet()\n",
    "[worksheet.write(0, i, header) for i,header in \n",
    "                                enumerate(['PhotoID', 'Photopath', 'studentID', 'Theme', 'Tags[..]'])]\n",
    "row = 1\n",
    "for i in range(1,22):\n",
    "    student = i\n",
    "    studentdir = rootdir + '/' + str(i)\n",
    "    for subdir, dirs, files in os.walk(studentdir):\n",
    "        if subdir is not studentdir:\n",
    "            for file in files:\n",
    "                theme = os.path.basename(subdir)\n",
    "                img_path = subdir + '/' + str(file)\n",
    "                img_id = file.split(\".\")[0]\n",
    "                tags = generate_tags(img_path)\n",
    "                entry = [img_id, img_path, str(i), theme] + tags\n",
    "                column = 0\n",
    "                for value in entry:\n",
    "                    worksheet.write(row, column, value)\n",
    "                    worksheet.set_column(0,column,25)\n",
    "                    column += 1\n",
    "                row += 1\n",
    "                \n",
    "workbook.close()"
   ]
  },
  {
   "cell_type": "code",
   "execution_count": 15,
   "metadata": {},
   "outputs": [
    {
     "name": "stdout",
     "output_type": "stream",
     "text": [
      "574\n"
     ]
    }
   ],
   "source": []
  },
  {
   "cell_type": "code",
   "execution_count": null,
   "metadata": {},
   "outputs": [],
   "source": []
  },
  {
   "cell_type": "code",
   "execution_count": null,
   "metadata": {},
   "outputs": [],
   "source": []
  }
 ],
 "metadata": {
  "kernelspec": {
   "display_name": "Python 3",
   "language": "python",
   "name": "python3"
  },
  "language_info": {
   "codemirror_mode": {
    "name": "ipython",
    "version": 3
   },
   "file_extension": ".py",
   "mimetype": "text/x-python",
   "name": "python",
   "nbconvert_exporter": "python",
   "pygments_lexer": "ipython3",
   "version": "3.7.0"
  }
 },
 "nbformat": 4,
 "nbformat_minor": 2
}
