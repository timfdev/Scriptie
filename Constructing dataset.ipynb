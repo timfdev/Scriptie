{
 "cells": [
  {
   "cell_type": "markdown",
   "metadata": {},
   "source": [
    "<h2>Photos are sent to clarifai, the returned tags are collected along with other photo information and stored in an excel file</h2>"
   ]
  },
  {
   "cell_type": "code",
   "execution_count": 5,
   "metadata": {},
   "outputs": [],
   "source": [
    "import os\n",
    "import xlsxwriter"
   ]
  },
  {
   "cell_type": "code",
   "execution_count": 6,
   "metadata": {},
   "outputs": [],
   "source": [
    "from clarifai_grpc.channel.clarifai_channel import ClarifaiChannel\n",
    "from clarifai_grpc.grpc.api import service_pb2_grpc\n",
    "from clarifai_grpc.grpc.api import service_pb2, resources_pb2\n",
    "from clarifai_grpc.grpc.api.status import status_code_pb2\n",
    "\n",
    "stub = service_pb2_grpc.V2Stub(ClarifaiChannel.get_grpc_channel())"
   ]
  },
  {
   "cell_type": "code",
   "execution_count": 7,
   "metadata": {},
   "outputs": [
    {
     "ename": "SyntaxError",
     "evalue": "invalid syntax (<ipython-input-7-69cd4cd00581>, line 8)",
     "output_type": "error",
     "traceback": [
      "\u001b[0;36m  File \u001b[0;32m\"<ipython-input-7-69cd4cd00581>\"\u001b[0;36m, line \u001b[0;32m8\u001b[0m\n\u001b[0;31m    with open(img, \"rb\") as f:\u001b[0m\n\u001b[0m       ^\u001b[0m\n\u001b[0;31mSyntaxError\u001b[0m\u001b[0;31m:\u001b[0m invalid syntax\n"
     ]
    }
   ],
   "source": [
    "# Send image to Clarifai api, return generated tags\n",
    "# Copied from the Clarif python demo: https://docs.clarifai.com/api-guide/predict/images\n",
    "# Replace KEY and MODELID with your Clarifai details\n",
    "\n",
    "def generate_tags(img):\n",
    "    # This is how you authenticate.\n",
    "    metadata = (('authorization', #KEY),)\n",
    "    with open(img, \"rb\") as f:\n",
    "        file_bytes = f.read()\n",
    "\n",
    "    post_model_outputs_response = stub.PostModelOutputs(\n",
    "        service_pb2.PostModelOutputsRequest(\n",
    "            model_id= #MODELID,\n",
    "            #version_id=\"{THE_MODEL_VERSION_ID}\",  # This is optional. Defaults to the latest model version.\n",
    "            inputs=[\n",
    "                resources_pb2.Input(\n",
    "                    data=resources_pb2.Data(\n",
    "                        image=resources_pb2.Image(\n",
    "                            base64=file_bytes\n",
    "                        )\n",
    "                    )\n",
    "                )\n",
    "            ]\n",
    "        ),\n",
    "        metadata=metadata\n",
    "    )\n",
    "\n",
    "    if post_model_outputs_response.status.code != status_code_pb2.SUCCESS:\n",
    "        raise Exception(\"Post model outputs failed, status: \" + post_model_outputs_response.status.description)\n",
    "\n",
    "    # Since we have one input, one output will exist here.\n",
    "    output = post_model_outputs_response.outputs[0]\n",
    "    return [\"%s %.2f\" % (concept.name, concept.value) for concept in output.data.concepts]\n"
   ]
  },
  {
   "cell_type": "code",
   "execution_count": 8,
   "metadata": {},
   "outputs": [],
   "source": [
    "#test = generate_tags('#PATH_TO_PHOTO')"
   ]
  },
  {
   "cell_type": "code",
   "execution_count": 9,
   "metadata": {},
   "outputs": [],
   "source": [
    "# for term in test:\n",
    "#     print(term)"
   ]
  },
  {
   "cell_type": "code",
   "execution_count": 10,
   "metadata": {},
   "outputs": [
    {
     "ename": "SyntaxError",
     "evalue": "invalid syntax (<ipython-input-10-5075300a56f4>, line 4)",
     "output_type": "error",
     "traceback": [
      "\u001b[0;36m  File \u001b[0;32m\"<ipython-input-10-5075300a56f4>\"\u001b[0;36m, line \u001b[0;32m4\u001b[0m\n\u001b[0;31m    rootdir = #PATH_TO_WRITE_TO\u001b[0m\n\u001b[0m                               ^\u001b[0m\n\u001b[0;31mSyntaxError\u001b[0m\u001b[0;31m:\u001b[0m invalid syntax\n"
     ]
    }
   ],
   "source": [
    "# Generate tags and store them in excel\n",
    "# Theme, StudentID, imgID, tags\n",
    "\n",
    "rootdir = #PATH_TO_WRITE_TO\n",
    "workbook = xlsxwriter.Workbook('complete_dataset.xlsx')\n",
    "worksheet = workbook.add_worksheet()\n",
    "[worksheet.write(0, i, header) for i,header in \n",
    "                                enumerate(['PhotoID', 'Photopath', 'studentID', 'Theme', 'Tags[..]'])]\n",
    "row = 1\n",
    "for i in range(1,22):\n",
    "    student = i\n",
    "    studentdir = rootdir + '/' + str(i)\n",
    "    for subdir, dirs, files in os.walk(studentdir):\n",
    "        if subdir is not studentdir:\n",
    "            for file in files:\n",
    "                theme = os.path.basename(subdir)\n",
    "                img_path = subdir + '/' + str(file)\n",
    "                img_id = file.split(\".\")[0]\n",
    "                tags = generate_tags(img_path)\n",
    "                entry = [img_id, img_path, str(i), theme] + tags\n",
    "                column = 0\n",
    "                for value in entry:\n",
    "                    worksheet.write(row, column, value)\n",
    "                    worksheet.set_column(0,column,25)\n",
    "                    column += 1\n",
    "                row += 1\n",
    "                \n",
    "workbook.close()"
   ]
  },
  {
   "cell_type": "code",
   "execution_count": null,
   "metadata": {},
   "outputs": [],
   "source": []
  },
  {
   "cell_type": "code",
   "execution_count": null,
   "metadata": {},
   "outputs": [],
   "source": []
  },
  {
   "cell_type": "code",
   "execution_count": null,
   "metadata": {},
   "outputs": [],
   "source": []
  }
 ],
 "metadata": {
  "kernelspec": {
   "display_name": "Python 3",
   "language": "python",
   "name": "python3"
  },
  "language_info": {
   "codemirror_mode": {
    "name": "ipython",
    "version": 3
   },
   "file_extension": ".py",
   "mimetype": "text/x-python",
   "name": "python",
   "nbconvert_exporter": "python",
   "pygments_lexer": "ipython3",
   "version": "3.7.0"
  }
 },
 "nbformat": 4,
 "nbformat_minor": 2
}
